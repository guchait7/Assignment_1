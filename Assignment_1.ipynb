{
  "nbformat": 4,
  "nbformat_minor": 0,
  "metadata": {
    "colab": {
      "provenance": [],
      "collapsed_sections": [
        "QZRoDPE7vkAp",
        "01qlkStPSL39",
        "g-VWf0HqnEgj",
        "HNUBMo1b-Zqr",
        "_9xKBD7AJiUB",
        "WEsB-yUUSRfV",
        "IVXGPe95sTx_",
        "GIUKFy7ntUAw"
      ],
      "toc_visible": true
    },
    "kernelspec": {
      "name": "python3",
      "display_name": "Python 3"
    },
    "language_info": {
      "name": "python"
    }
  },
  "cells": [
    {
      "cell_type": "markdown",
      "source": [
        "\n",
        "#THEORY QUESTIONS:-\n",
        "\n",
        "---\n",
        "\n",
        "\n",
        "\n"
      ],
      "metadata": {
        "id": "LLYQaV8xBxLQ"
      }
    },
    {
      "cell_type": "markdown",
      "source": [
        "#1)\tWhat is Python, and why is it popular?\n",
        "Ans:-\n",
        "* Python is a programming language which was developed by Guido Van Rossum and was first released in 1991.\n",
        "\n",
        "* A programming language is a set of rules and symbols that is used for writing instructions or code for a computer to perform a task or in other words for writing a computer programme.\n",
        "\n",
        "* Python is a popular programming language because of the following reasons:-\n",
        "\n",
        "Python has a large and active community of developers:-\n",
        "- It comes with a lot of libraries and third party packages.\n",
        "- It has wide acceptability and used widely in the industry as it is compatible with various programming paradigms.\n",
        "-It is widely used in the data industry"
      ],
      "metadata": {
        "id": "jCDiTZJFgwub"
      }
    },
    {
      "cell_type": "markdown",
      "source": [
        "#2) What is an interpreter in Python?\n",
        "\n",
        "Ans:-\n",
        "* The work of interpreter is to translate each line of code (high level language/source code) to machine code (binary) when we run the code and generates the output on screen.\n",
        "  \n",
        "* Unlike a compiler (which translates at a go), an interpreter translates each line of instruction.\n",
        "* Interpreter executes the program without any intermediate code ( as in compiler we see that an intermediate executable file is generated.\n",
        "\n"
      ],
      "metadata": {
        "id": "Vp8WjA1Pt60r"
      }
    },
    {
      "cell_type": "markdown",
      "source": [
        "#3)\tWhat are pre-defined keywords in Python?\n",
        " Ans:-\n",
        "\n",
        "* Any programming language has got specific words/keywords in its reserve that has got definite meaning.\n",
        "* These predefined keywords are like the building blocks of any python program.\n",
        "* In python we can use the following syntax to get the list of all the predefined keywords.\n"
      ],
      "metadata": {
        "id": "QZRoDPE7vkAp"
      }
    },
    {
      "cell_type": "code",
      "source": [
        "#eg:-by using the following code we can find the list of all predefined keywords in python\n",
        "help(\"keywords\")"
      ],
      "metadata": {
        "colab": {
          "base_uri": "https://localhost:8080/"
        },
        "id": "zvGbIBFpv32F",
        "outputId": "8d27ac61-4ace-452e-e2e2-f34a2833fabf"
      },
      "execution_count": null,
      "outputs": [
        {
          "output_type": "stream",
          "name": "stdout",
          "text": [
            "\n",
            "Here is a list of the Python keywords.  Enter any keyword to get more help.\n",
            "\n",
            "False               class               from                or\n",
            "None                continue            global              pass\n",
            "True                def                 if                  raise\n",
            "and                 del                 import              return\n",
            "as                  elif                in                  try\n",
            "assert              else                is                  while\n",
            "async               except              lambda              with\n",
            "await               finally             nonlocal            yield\n",
            "break               for                 not                 \n",
            "\n"
          ]
        }
      ]
    },
    {
      "cell_type": "markdown",
      "source": [
        "#4)\tCan keywords be used as variable names?\n",
        "Ans:-\n",
        "* The predefines keywords have got a specific function and they can not be used as variable names.\n",
        "* However if we mistakenly assign any keyword to a variable name,in such case\n",
        "          eg :- name= print\n",
        "                print(“hello”)\n",
        "* This will not get executed as the keyword print has been now been assigned to a variable.\n",
        "* In such case we need to restart the kernel and the functions will get restored\n",
        "* Thus we can't assign variable to a keyword.\n"
      ],
      "metadata": {
        "id": "pKWNPXRpw1a0"
      }
    },
    {
      "cell_type": "markdown",
      "source": [
        "#5)What is mutability in Python?\n",
        "Ans:-\n",
        "* In python there are 2 types of objects :- Mutable and Immutable objects.\n",
        "* In case of Mutable objects, we can add,change or remove each elements of that object by accessing them individually.\n",
        "* Thus we can say that objects/containers whose state/value can be changed after they have been created are called mutable objects\n",
        "Example of mutable objects in Python :- Lists ,Sets etc.\n",
        "\n",
        "For example :- list_A= [1,2,3,5,7,9]\n",
        "  \n",
        "   Now accessing the elements of the string and making some changes\n",
        "    list_A[0]=10\n",
        "    list_A= [10,2,3,5,7,9] …………thus we see the mutable nature of lists\n",
        "\n"
      ],
      "metadata": {
        "id": "01qlkStPSL39"
      }
    },
    {
      "cell_type": "code",
      "source": [
        "#For example :-\n",
        "list_A= [1,2,3,5,7,9]\n",
        "\n",
        "  #Now accessing the elements of the string and making some changes\n",
        "list_A[0]=10\n",
        "list_A= [10,2,3,5,7,9]\n",
        "\n",
        "#Thus we can see the mutable nature of lists"
      ],
      "metadata": {
        "id": "e7rJSWNcNdN7"
      },
      "execution_count": null,
      "outputs": []
    },
    {
      "cell_type": "markdown",
      "source": [
        "#6)Why are lists mutable, but tuples are immutable?\n",
        "Ans:-\n",
        "Lists and Tuples have different properties and they are used for different purposes.\n",
        "\n",
        "**LIST :-**\n",
        "* They are mutable and thus we can modify the content of lists.\n",
        "* It is used to remove, append or change any element.\n",
        "* As lists are changeable they consumes more memory than tuples.\n",
        "\n",
        "**TUPLES:-**\n",
        "* They are immutable thus they are used in cases where the data remains constant throughout , thus preventing data alteration.\n",
        "* They consumes lesser memory than lists as they have fixed size at the time of creation.\n",
        "\n",
        "Thus these differences makes one mutable and other immutable and each serves us different purpose.\n",
        "\n",
        "\n",
        "\n"
      ],
      "metadata": {
        "id": "XgIuCc9bS8SU"
      }
    },
    {
      "cell_type": "markdown",
      "source": [
        "#7)What is the difference between “==” and “is” operator in Python?\n",
        "Ans:-\n",
        "               \n",
        "      \"==\" This is Equality operator\n",
        "  * It is used to compare the value of two objects\n",
        "  * When two objects have equal value then this will return TRUE\n",
        "        \n"
      ],
      "metadata": {
        "id": "hTDIHDHVjYOO"
      }
    },
    {
      "cell_type": "code",
      "source": [
        "BASKET_A=[1,2,3,4,5]\n",
        "BASKET_B=[1,2,3,4,5]\n",
        "print(BASKET_A==BASKET_B)"
      ],
      "metadata": {
        "colab": {
          "base_uri": "https://localhost:8080/"
        },
        "id": "HUqDlQ0WkgO8",
        "outputId": "88a2bc40-81a8-4e29-ab58-177405514763"
      },
      "execution_count": null,
      "outputs": [
        {
          "output_type": "stream",
          "name": "stdout",
          "text": [
            "True\n"
          ]
        }
      ]
    },
    {
      "cell_type": "markdown",
      "source": [
        "      \"is\" This is identity operator\n",
        "  * This is different from equality operator because it doesn't compares objects .\n",
        "  * instead this compares the memory addresses/location of the objects.\n",
        "  *If the varibles that we are comparing is pointing to the same object in memory then it will return \"true\"."
      ],
      "metadata": {
        "id": "eSDpDctBlEDI"
      }
    },
    {
      "cell_type": "code",
      "source": [
        "BASKET_A=[1,2,3,4,5]\n",
        "APPLE=BASKET_A\n",
        "print(BASKET_A is APPLE)"
      ],
      "metadata": {
        "colab": {
          "base_uri": "https://localhost:8080/"
        },
        "id": "_NHfCd4WmI03",
        "outputId": "a474c85f-0617-4d33-f075-9313978bcfce"
      },
      "execution_count": null,
      "outputs": [
        {
          "output_type": "stream",
          "name": "stdout",
          "text": [
            "True\n"
          ]
        }
      ]
    },
    {
      "cell_type": "markdown",
      "source": [
        "#8)What are the logical operators in Python?\n",
        "Ans:-\n",
        "* Operators are special symbols or keywords that are used to carry out specific actions.\n",
        "* There are various types of operators--\n",
        "   - Arithmetic operators\n",
        "   - Comparison operators\n",
        "   -Assignment operators\n",
        "   - Logical operators\n",
        "   - Bitwise operators etc\n",
        "  \n",
        "* Logical operators are:-\n",
        "  - and\n",
        "  - or\n",
        "  -not\n",
        "\n",
        "* \"and\" returns \"True\" if both conditions are true\n",
        "* \"or\" returns \"True\" if at least one condition is true\n",
        "* \"not\" this operator reverses the truth value of a condition.(i.e, if condition is actually false then this operator will return true)\n"
      ],
      "metadata": {
        "id": "g-VWf0HqnEgj"
      }
    },
    {
      "cell_type": "code",
      "source": [
        "#The funtion of logical operators can be demonstrated as follows:-\n",
        "A=10\n",
        "B=20\n",
        "#and operator\n",
        "print(A>2 and B>10)\n",
        "#or operator\n",
        "print(A>10 or B>15)\n",
        "#not operator\n",
        "print (not(A>100))"
      ],
      "metadata": {
        "colab": {
          "base_uri": "https://localhost:8080/"
        },
        "id": "3rk1uQNs741V",
        "outputId": "0656b7d1-5989-44a0-ae19-247a80d78445"
      },
      "execution_count": null,
      "outputs": [
        {
          "output_type": "stream",
          "name": "stdout",
          "text": [
            "True\n",
            "True\n",
            "True\n"
          ]
        }
      ]
    },
    {
      "cell_type": "markdown",
      "source": [
        "#9)What is type casting in Python?\n",
        "Ans:-\n",
        "* Type casting is basically the process of changing or converting the data type of one object/data to another data type\n",
        "* The common data types are:-\n",
        "  - string\n",
        "  - integer\n",
        "  - float\n",
        "  - boolean etc\n",
        "\n",
        "* Type casting is necessary for performing arithmetic operations, data manipulation,and input/output operations in Python.\n"
      ],
      "metadata": {
        "id": "HNUBMo1b-Zqr"
      }
    },
    {
      "cell_type": "code",
      "source": [
        "#example of type casting:-\n",
        "PW=100\n",
        "print(type(PW))\n"
      ],
      "metadata": {
        "colab": {
          "base_uri": "https://localhost:8080/"
        },
        "id": "x-2SwD4Q_mi4",
        "outputId": "59442dfc-dd2e-4b43-956a-15ba5cd76b70"
      },
      "execution_count": null,
      "outputs": [
        {
          "output_type": "stream",
          "name": "stdout",
          "text": [
            "<class 'int'>\n"
          ]
        }
      ]
    },
    {
      "cell_type": "code",
      "source": [
        "#Converting integer to float\n",
        "PW=float(PW)\n",
        "print(type(PW))"
      ],
      "metadata": {
        "id": "JRA6_GWND6N9",
        "colab": {
          "base_uri": "https://localhost:8080/"
        },
        "outputId": "4b6d6d4f-f018-4599-bf40-02f196eab334"
      },
      "execution_count": null,
      "outputs": [
        {
          "output_type": "stream",
          "name": "stdout",
          "text": [
            "<class 'float'>\n"
          ]
        }
      ]
    },
    {
      "cell_type": "markdown",
      "source": [
        "#10)What is the difference between implicit and explicit type casting?\n",
        "Ans:-\n",
        "\n",
        "**Implicit type casting:-**\n",
        "  * The conversion of one data type to another data type automatically , without any user involvement is called implicit type casting.\n",
        "  * It gets implemented when two data types are compatible.  Eg , integer + Float = Float .\n",
        "  \n",
        "**Explicit type casting:-**\n",
        "\n",
        "  * Here the conversion of a data type to another data type is done by the user .\n",
        "  * This could be done with incompatible data types.\n",
        "Eg:- converting an integer to string.\n"
      ],
      "metadata": {
        "id": "njNDNg9wIivy"
      }
    },
    {
      "cell_type": "markdown",
      "source": [
        "#11)What are purpose of conditional statements in Python?\n",
        "Ans:-\n",
        "* Conditional statements in Python are used to execute code based on evaluation of one or more conditions.\n",
        "* In simpler terms they are used in decision making, control flow of execution , handling error etc\n",
        "* In order to control the flow of execution we use conditional statements like : *if, elif ,else*\n",
        "\n",
        " - if Statement:Executes a block of code if the condition is True.\n",
        " - else Statement:Executes a block of code if the if condition is False.\n",
        " -elif Statement:Used to check multiple conditions. It only runs if the preceding if or else conditions are False."
      ],
      "metadata": {
        "id": "_9xKBD7AJiUB"
      }
    },
    {
      "cell_type": "code",
      "source": [
        "#Example of simple conditional statements:\n",
        "\n",
        "x = 6\n",
        "\n",
        "if x > 10:\n",
        "    print(\"x is greater than 10\")\n",
        "elif x == 5:\n",
        "    print(\"x is equal to 5\")\n",
        "else:\n",
        "    print(\"x is less than 10\")\n"
      ],
      "metadata": {
        "colab": {
          "base_uri": "https://localhost:8080/"
        },
        "id": "ydw2kc0bOJaJ",
        "outputId": "a47b0f41-77bc-4a41-e0f6-609b26d7747b"
      },
      "execution_count": null,
      "outputs": [
        {
          "output_type": "stream",
          "name": "stdout",
          "text": [
            "x is less than 10\n"
          ]
        }
      ]
    },
    {
      "cell_type": "code",
      "source": [],
      "metadata": {
        "id": "cG_ENeTzmeMK"
      },
      "execution_count": null,
      "outputs": []
    },
    {
      "cell_type": "markdown",
      "source": [
        "#12)How does the elif statement work?\n",
        "Ans:-\n",
        "* elif is used in a conditional statement, it is used  to check multiple conditions in sequence.\n",
        "* elif stands for else if.\n",
        "* For example, if the first condition is false, it moves on to the next “elif” statement to check if that condition is true.\n",
        "* If none of the conditions are true, the code will execute the else statement."
      ],
      "metadata": {
        "id": "WEsB-yUUSRfV"
      }
    },
    {
      "cell_type": "code",
      "source": [
        "# application of elif can be seen by similar example as already shown above in ans 11.\n",
        "#Here is another example showing how elif statement works:-\n",
        "X=50\n",
        "if X > 100:\n",
        "    print(\"x is greater than 100\")\n",
        "elif X == 50:\n",
        "    print(\"x is equal to 50\")\n",
        "else:\n",
        "    print(\"x is less than to 100\")\n"
      ],
      "metadata": {
        "colab": {
          "base_uri": "https://localhost:8080/"
        },
        "id": "tARkxVI3paNp",
        "outputId": "a2477abc-0eb2-45a0-af3a-a6dbab53cd67"
      },
      "execution_count": null,
      "outputs": [
        {
          "output_type": "stream",
          "name": "stdout",
          "text": [
            "x is equal to 50\n"
          ]
        }
      ]
    },
    {
      "cell_type": "markdown",
      "source": [
        "#13)What is the difference between for and while loops ?\n",
        "Ans:-\n",
        "\n",
        "**For loop**\n",
        "- A for loop is used to iterate/repeat over a sequence (list, tuples or string)\n",
        "-usually a for loop is used when we know exactly how many times we want to execute the loop\n",
        "\n",
        "**While loop**\n",
        "- While loop is used to repeatedly execute a block of code as long as a certain condition is true.\n",
        "- We can use while loop when we don't know how many times we need to execute the loop beforehand"
      ],
      "metadata": {
        "id": "IVXGPe95sTx_"
      }
    },
    {
      "cell_type": "code",
      "source": [
        "# Example of for loop\n",
        "colour=[\"red\",\"blue\",\"green\"]\n",
        "for x in colour:\n",
        "  print(x)\n"
      ],
      "metadata": {
        "colab": {
          "base_uri": "https://localhost:8080/"
        },
        "id": "DNfGBI9B0XLY",
        "outputId": "5a59e0e5-4724-49dc-d16a-f76173312a5f"
      },
      "execution_count": null,
      "outputs": [
        {
          "output_type": "stream",
          "name": "stdout",
          "text": [
            "red\n",
            "blue\n",
            "green\n"
          ]
        }
      ]
    },
    {
      "cell_type": "code",
      "source": [
        "#Example of while loop\n",
        "i = 1\n",
        "while i < 5:\n",
        "  print(i)\n",
        "  i += 1\n"
      ],
      "metadata": {
        "colab": {
          "base_uri": "https://localhost:8080/"
        },
        "id": "JOxB9CmG0m8X",
        "outputId": "4136bd6f-25d4-4269-aa63-a19b1e0fd168"
      },
      "execution_count": null,
      "outputs": [
        {
          "output_type": "stream",
          "name": "stdout",
          "text": [
            "1\n",
            "2\n",
            "3\n",
            "4\n"
          ]
        }
      ]
    },
    {
      "cell_type": "markdown",
      "source": [
        "#14)Describe a scenario where a while loop is more suitable than a for loop?\n",
        "\n",
        "Ans:-\n",
        "* A while loop is more suitable in such a scenario when we don't know the exact number of iterations beforehand.\n",
        "* For example, while withdrawing money from ATM, user has to enter a number between 10 and 99 to proceed to the next window\n",
        "* In such cases the developer don't know how many attempts the user will make to get it correct .\n",
        "* In such situation a while loop is used as the loop will run until the condition is true."
      ],
      "metadata": {
        "id": "GIUKFy7ntUAw"
      }
    },
    {
      "cell_type": "code",
      "source": [
        "#such a while loop can be demonstrated in the following example:-\n",
        "X=0\n",
        "while not(10<=X<=99):\n",
        "X=int(input(\"enter a number between 10 and 99:\"))\n",
        "print(\"valid no\")"
      ],
      "metadata": {
        "id": "aOHtMW6Y8zfY"
      },
      "execution_count": null,
      "outputs": []
    },
    {
      "cell_type": "markdown",
      "source": [
        "#PRACTICAL QUESTIONS:\n",
        "\n",
        "---\n",
        "\n",
        "\n",
        "\n",
        "---\n",
        "\n",
        "\n"
      ],
      "metadata": {
        "id": "n0nPqOcL4OOQ"
      }
    },
    {
      "cell_type": "markdown",
      "source": [
        "#1) Write a python program to print\"Hello, World\"\n"
      ],
      "metadata": {
        "id": "l7Ke2QSO94eT"
      }
    },
    {
      "cell_type": "code",
      "source": [
        "print(\"Hello world\")"
      ],
      "metadata": {
        "colab": {
          "base_uri": "https://localhost:8080/"
        },
        "id": "hSRcUq2SA_aS",
        "outputId": "a47eaf07-c656-4931-a58c-e91fe5e21a9e"
      },
      "execution_count": null,
      "outputs": [
        {
          "output_type": "stream",
          "name": "stdout",
          "text": [
            "Hello world\n"
          ]
        }
      ]
    },
    {
      "cell_type": "markdown",
      "source": [
        "#2)Write a python program that displays your name and age.\n"
      ],
      "metadata": {
        "id": "_2XrfXVP-Ogj"
      }
    },
    {
      "cell_type": "code",
      "source": [
        "Name=input(\"Enter name:\")\n",
        "Age=int(input(\"Enter age:\"))\n",
        "print(\"Hello! My name is\",Name)\n",
        "print(\"I am\",Age,\"years old\")"
      ],
      "metadata": {
        "colab": {
          "base_uri": "https://localhost:8080/"
        },
        "id": "bdex7AgEBNn6",
        "outputId": "ab5c013f-cf5d-41c2-d8e5-c0f000dc09d4"
      },
      "execution_count": null,
      "outputs": [
        {
          "output_type": "stream",
          "name": "stdout",
          "text": [
            "Enter name:Saptarshi Guchait\n",
            "Enter age:24\n",
            "Hello!My name is Saptarshi Guchait\n",
            "I am 24 years old\n"
          ]
        }
      ]
    },
    {
      "cell_type": "markdown",
      "source": [
        "#3)Write code to print all the pre defined keywords in python using the keyword library\n"
      ],
      "metadata": {
        "id": "GQzQ971h-aRp"
      }
    },
    {
      "cell_type": "code",
      "source": [
        "import keyword\n",
        "print(\"These are the predefined keywords in python : \")\n",
        "print(keyword.kwlist)\n",
        "\n",
        "\n"
      ],
      "metadata": {
        "colab": {
          "base_uri": "https://localhost:8080/"
        },
        "id": "-8n6UJ0uBuU5",
        "outputId": "32851a96-784a-4eb9-e9cf-181564765589"
      },
      "execution_count": null,
      "outputs": [
        {
          "output_type": "stream",
          "name": "stdout",
          "text": [
            "These are the predefined keywords in python : \n",
            "['False', 'None', 'True', 'and', 'as', 'assert', 'async', 'await', 'break', 'class', 'continue', 'def', 'del', 'elif', 'else', 'except', 'finally', 'for', 'from', 'global', 'if', 'import', 'in', 'is', 'lambda', 'nonlocal', 'not', 'or', 'pass', 'raise', 'return', 'try', 'while', 'with', 'yield']\n"
          ]
        }
      ]
    },
    {
      "cell_type": "markdown",
      "source": [
        "#4)Write a program that checks if a given word is a python keyword"
      ],
      "metadata": {
        "id": "7M7HJwm2-kT5"
      }
    },
    {
      "cell_type": "code",
      "source": [
        "def is_python_keyword(word):\n",
        "    if keyword.iskeyword(word):\n",
        "        return \"Yes\"\n",
        "    else:\n",
        "        return \"No\"\n",
        "\n",
        "word = input(\"Enter a word to check if it is a Python keyword: \")\n",
        "result = is_python_keyword(word)\n",
        "print(result)"
      ],
      "metadata": {
        "colab": {
          "base_uri": "https://localhost:8080/"
        },
        "id": "KTRq6YFrFyY6",
        "outputId": "82a467af-a628-4f8e-838c-0beba83b88d6"
      },
      "execution_count": null,
      "outputs": [
        {
          "output_type": "stream",
          "name": "stdout",
          "text": [
            "Enter a word to check if it is a Python keyword: Apple\n",
            "No\n"
          ]
        }
      ]
    },
    {
      "cell_type": "markdown",
      "source": [
        "#5)Create a list and tuple in Python, and demonstrate how attempting to change an element works differently for each?\n"
      ],
      "metadata": {
        "id": "GdTEQQ46-xeo"
      }
    },
    {
      "cell_type": "code",
      "source": [
        "#Creating a list\n",
        "my_list = [1, 2, 3, 4, 5]\n",
        "\n",
        "# Attempting to change an element in the list\n",
        "print(\"Original list:\", my_list)\n",
        "\n",
        "my_list[2] = 10  #Now changing the value at index 2\n",
        "print(\"Modified list:\", my_list)\n"
      ],
      "metadata": {
        "colab": {
          "base_uri": "https://localhost:8080/"
        },
        "id": "IUkIBVC7IsTd",
        "outputId": "05839ce1-8090-4be8-a28f-b91464ae1bcf"
      },
      "execution_count": null,
      "outputs": [
        {
          "output_type": "stream",
          "name": "stdout",
          "text": [
            "Original list: [1, 2, 3, 4, 5]\n",
            "Modified list: [1, 2, 10, 4, 5]\n"
          ]
        }
      ]
    },
    {
      "cell_type": "code",
      "source": [
        "#Creating a tuple\n",
        "my_tuple = (1, 2, 3, 4, 5)\n",
        "\n",
        "# Attempting to change an element in the tuple\n",
        "print(\"Original tuple:\", my_tuple)\n",
        "\n",
        "my_tuple[2] = 10\n",
        "# on attempting to change content of tuple it shows following error:-\n",
        "\"\"\"TypeError: 'tuple' object does not support item assignment\"\"\"\n"
      ],
      "metadata": {
        "id": "JSn7nEpJJd8J"
      },
      "execution_count": null,
      "outputs": []
    },
    {
      "cell_type": "markdown",
      "source": [
        "#6) Write a function to demonstrate the behavoiur of mutable and immutable arguments."
      ],
      "metadata": {
        "id": "rCyuwo1x_GNx"
      }
    },
    {
      "cell_type": "code",
      "source": [
        "# Function to demonstrate mutable and immutable arguments\n",
        "def demonstrate_mutable_immutable(mutable_arg, immutable_arg):\n",
        "    print(\"Before modification:\")\n",
        "    print(\"Mutable argument:\", mutable_arg)\n",
        "    print(\"Immutable argument:\", immutable_arg)\n",
        "\n",
        "    # Modify mutable argument (list)\n",
        "    mutable_arg.append(100)\n",
        "\n",
        "    # Modify immutable argument (integer)\n",
        "    immutable_arg += 5\n",
        "\n",
        "    print(\"\\nAfter modification:\")\n",
        "    print(\"Mutable argument:\", mutable_arg)  # Mutable argument is modified\n",
        "    print(\"Immutable argument:\", immutable_arg)  # Immutable argument is not modified\n",
        "\n",
        "# Test the function\n",
        "mutable_list = [1, 2, 3]\n",
        "immutable_int = 10\n",
        "\n",
        "# Calling the function with a mutable list and an immutable integer\n",
        "demonstrate_mutable_immutable(mutable_list, immutable_int)\n",
        "\n",
        "# Print the values outside the function to observe the effect\n",
        "print(\"\\nOutside the function:\")\n",
        "print(\"Mutable list:\", mutable_list)  # The list is modified outside the function\n",
        "print(\"Immutable integer:\", immutable_int)  # The integer is unchanged outside the function\n"
      ],
      "metadata": {
        "id": "8HrYjiO7Kbtl"
      },
      "execution_count": null,
      "outputs": []
    },
    {
      "cell_type": "markdown",
      "source": [
        "#8)Write a program to demonstrate the use of logical operators\n"
      ],
      "metadata": {
        "id": "9YSYC84O_ZHe"
      }
    },
    {
      "cell_type": "code",
      "source": [
        "x = 10\n",
        "y = 20\n",
        "z = 5\n",
        "#Demonstrating the use of 'and' operator:-\n",
        "if x < y and y > z:\n",
        "    print(\"x is less than y and y is greater than z\")\n"
      ],
      "metadata": {
        "colab": {
          "base_uri": "https://localhost:8080/"
        },
        "id": "YGF8cFOYLFPz",
        "outputId": "e6a74649-e7f8-4722-f9f2-33c745e5e73c"
      },
      "execution_count": null,
      "outputs": [
        {
          "output_type": "stream",
          "name": "stdout",
          "text": [
            "x is less than y and y is greater than z\n"
          ]
        }
      ]
    },
    {
      "cell_type": "code",
      "source": [
        "#Demonstrating the use of 'or' operator:-\n",
        "if x > z or y > x:\n",
        "    print(\"Either x is greater than z or y is greater than x\")"
      ],
      "metadata": {
        "colab": {
          "base_uri": "https://localhost:8080/"
        },
        "id": "RgEncrr6Ltlh",
        "outputId": "9ecc7d0d-f2bb-4890-c79b-196702d10e13"
      },
      "execution_count": null,
      "outputs": [
        {
          "output_type": "stream",
          "name": "stdout",
          "text": [
            "Either x is greater than z or y is greater than x\n"
          ]
        }
      ]
    },
    {
      "cell_type": "code",
      "source": [
        "# Demonstrating the use of 'not' operator\n",
        "if not(x == y):\n",
        "    print(\"x is not equal to y\")"
      ],
      "metadata": {
        "colab": {
          "base_uri": "https://localhost:8080/"
        },
        "id": "5G09IFB6L0z5",
        "outputId": "b0f369a1-a437-4ff5-f3b9-1eb0309e1114"
      },
      "execution_count": null,
      "outputs": [
        {
          "output_type": "stream",
          "name": "stdout",
          "text": [
            "x is not equal to y\n"
          ]
        }
      ]
    },
    {
      "cell_type": "markdown",
      "source": [
        "#9)Write a python program to convert user input from string to integer, float and boolean types"
      ],
      "metadata": {
        "id": "2HXMJrcU_ihP"
      }
    },
    {
      "cell_type": "code",
      "source": [
        "# Taking user input as a string\n",
        "user_input = input(\"Enter a value: \")\n",
        "\n",
        "# Convert to integer\n",
        "try:\n",
        "    int_value = int(user_input)\n",
        "    print(f\"Integer value: {int_value}\")\n",
        "except ValueError:\n",
        "    print(\"Invalid input for integer.\")\n",
        "\n",
        "# Convert to float\n",
        "try:\n",
        "    float_value = float(user_input)\n",
        "    print(f\"Float value: {float_value}\")\n",
        "except ValueError:\n",
        "    print(\"Invalid input for float.\")\n",
        "\n",
        "# Convert to boolean\n",
        "# An empty string will be considered as False, anything else as True\n",
        "if user_input.strip().lower() in ['true', '1', 'yes']:\n",
        "    bool_value = True\n",
        "elif user_input.strip().lower() in ['false', '0', 'no']:\n",
        "    bool_value = False\n",
        "else:\n",
        "    bool_value = bool(user_input.strip())\n",
        "print(f\"Boolean value: {bool_value}\")"
      ],
      "metadata": {
        "id": "HkpBWrRjMjGw",
        "colab": {
          "base_uri": "https://localhost:8080/"
        },
        "outputId": "8fe6a0f2-17a1-47b3-e426-ba560430bf6b"
      },
      "execution_count": null,
      "outputs": [
        {
          "output_type": "stream",
          "name": "stdout",
          "text": [
            "Enter a value: 100\n",
            "Integer value: 100\n",
            "Float value: 100.0\n",
            "Boolean value: True\n"
          ]
        }
      ]
    },
    {
      "cell_type": "markdown",
      "source": [
        "#10)Write code to demonstrate type casting with list elements."
      ],
      "metadata": {
        "id": "p3CnlrOv_tu2"
      }
    },
    {
      "cell_type": "code",
      "source": [
        "list_1 = [1, 2.5, '3', True]\n",
        "\n",
        "print(\"Original list:\", list_1)\n",
        "\n",
        "# 1. Converting first element (integer) to a float\n",
        "list_1[0] = float(list_1[0])\n",
        "# 2. Converting second element (float) to an integer\n",
        "list_1[1] = int(list_1[1])\n",
        "# 3. Converting third element (string) to an integer\n",
        "list_1[2] = int(list_1[2])\n",
        "# 4. Converting fourth element (boolean) to an integer\n",
        "list_1[3] = int(list_1[3])\n",
        "\n",
        "print(\"Modified list:\", list_1)\n"
      ],
      "metadata": {
        "colab": {
          "base_uri": "https://localhost:8080/"
        },
        "id": "XCpEc65695xK",
        "outputId": "d63c306d-9ea8-48f8-e44f-d460df86714b"
      },
      "execution_count": 15,
      "outputs": [
        {
          "output_type": "stream",
          "name": "stdout",
          "text": [
            "Original list: [1, 2.5, '3', True]\n",
            "Modified list: [1.0, 2, 3, 1]\n"
          ]
        }
      ]
    },
    {
      "cell_type": "markdown",
      "source": [
        "#11)Write a program that checks if a program is positive , negativeor zero.\n"
      ],
      "metadata": {
        "id": "fSYQ8gj4_3QE"
      }
    },
    {
      "cell_type": "code",
      "source": [
        "num = float(input(\"Enter a number: \"))\n",
        "\n",
        "if num > 0:\n",
        "    print(\"The number is positive.\")\n",
        "elif num < 0:\n",
        "    print(\"The number is negative.\")\n",
        "else:\n",
        "    print(\"The number is zero.\")\n"
      ],
      "metadata": {
        "colab": {
          "base_uri": "https://localhost:8080/"
        },
        "id": "g9agjxo09vRj",
        "outputId": "df10912e-5b25-4b77-dd4e-78cf49a99fa9"
      },
      "execution_count": 11,
      "outputs": [
        {
          "output_type": "stream",
          "name": "stdout",
          "text": [
            "Enter a number: -13\n",
            "The number is negative.\n"
          ]
        }
      ]
    },
    {
      "cell_type": "markdown",
      "source": [
        "#12)Write a for loop to print numbers from 1 to 10"
      ],
      "metadata": {
        "id": "vywCm0c1ADo1"
      }
    },
    {
      "cell_type": "code",
      "source": [
        "# Using a for loop to print numbers from 1 to 10\n",
        "for num in range(1, 11):\n",
        "    print(num)\n"
      ],
      "metadata": {
        "colab": {
          "base_uri": "https://localhost:8080/"
        },
        "id": "nFIhjyU29br0",
        "outputId": "84c8ebf5-9535-42c4-a853-932a0bab94bd"
      },
      "execution_count": 10,
      "outputs": [
        {
          "output_type": "stream",
          "name": "stdout",
          "text": [
            "1\n",
            "2\n",
            "3\n",
            "4\n",
            "5\n",
            "6\n",
            "7\n",
            "8\n",
            "9\n",
            "10\n"
          ]
        }
      ]
    },
    {
      "cell_type": "markdown",
      "source": [
        "#13)Write a Python program to find the sum of all even numbers between 1 and 50\n"
      ],
      "metadata": {
        "id": "tTE3nh13ALtr"
      }
    },
    {
      "cell_type": "code",
      "source": [
        "# Loop through numbers from 1 to 50\n",
        "\n",
        "sum_even = 0\n",
        "for num in range(1, 51):\n",
        "\n",
        "  if num % 2 == 0:\n",
        "     sum_even += num\n",
        "\n",
        "print(\"The sum of all even numbers between 1 and 50 is:\", sum_even)\n"
      ],
      "metadata": {
        "colab": {
          "base_uri": "https://localhost:8080/"
        },
        "id": "UMv7illG82cm",
        "outputId": "baf29e20-b025-44e4-8a9e-0a884f0828af"
      },
      "execution_count": 9,
      "outputs": [
        {
          "output_type": "stream",
          "name": "stdout",
          "text": [
            "The sum of all even numbers between 1 and 50 is: 650\n"
          ]
        }
      ]
    },
    {
      "cell_type": "markdown",
      "source": [
        "#14)Write a program to reverse a string using a while loop\n"
      ],
      "metadata": {
        "id": "l30EcoftAXj7"
      }
    },
    {
      "cell_type": "code",
      "source": [
        "input_string = input(\"Enter string to reverse it: \")\n",
        "\n",
        "reversed_string = \"\"\n",
        "index = len(input_string) - 1\n",
        "\n",
        "# Reverse the string using a while loop\n",
        "while index >= 0:\n",
        "    reversed_string += input_string[index]\n",
        "    index -= 1\n",
        "\n",
        "print(\"Reversed string:\", reversed_string)\n",
        "\n"
      ],
      "metadata": {
        "colab": {
          "base_uri": "https://localhost:8080/"
        },
        "id": "ZPbSzTrN72KA",
        "outputId": "06460b2a-f2f1-46e2-cd6f-16284300c530"
      },
      "execution_count": 3,
      "outputs": [
        {
          "output_type": "stream",
          "name": "stdout",
          "text": [
            "Enter string to reverse it: REWARD\n",
            "Reversed string: DRAWER\n"
          ]
        }
      ]
    },
    {
      "cell_type": "markdown",
      "source": [
        "#15)Write a python program to calculate the factorial of a number provided by the user using a while loop"
      ],
      "metadata": {
        "id": "CdLDDxeiAkJW"
      }
    },
    {
      "cell_type": "code",
      "source": [
        "num = int(input(\"Enter a number to calculate its factorial: \"))\n",
        "\n",
        "factorial = 1\n",
        "i = 1\n",
        "\n",
        "# Checking if the number is negative\n",
        "\n",
        "if num < 0:\n",
        "    print(\"Factorial does not exist for negative numbers.\")\n",
        "else:\n",
        "\n",
        "# Calculate factorial using a while loop\n",
        "    while i <= num:\n",
        "        factorial *= i\n",
        "        i += 1\n",
        "\n",
        "print(f\"The factorial of {num} is {factorial}\")\n"
      ],
      "metadata": {
        "colab": {
          "base_uri": "https://localhost:8080/"
        },
        "id": "XvJpEo546t3E",
        "outputId": "64cfbd6a-1c1c-407f-be9f-604a040f55b1"
      },
      "execution_count": 2,
      "outputs": [
        {
          "output_type": "stream",
          "name": "stdout",
          "text": [
            "Enter a number to calculate its factorial: 5\n",
            "The factorial of 5 is 120\n"
          ]
        }
      ]
    }
  ]
}