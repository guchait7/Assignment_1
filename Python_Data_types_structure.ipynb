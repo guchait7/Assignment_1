{
  "nbformat": 4,
  "nbformat_minor": 0,
  "metadata": {
    "colab": {
      "provenance": []
    },
    "kernelspec": {
      "name": "python3",
      "display_name": "Python 3"
    },
    "language_info": {
      "name": "python"
    }
  },
  "cells": [
    {
      "cell_type": "markdown",
      "source": [
        "# Theoretical Questions"
      ],
      "metadata": {
        "id": "mWE92LOOd9BB"
      }
    },
    {
      "cell_type": "markdown",
      "source": [
        "## Python - Data Structure Assignment\n",
        "-----------------------------------------------------------------\n",
        "Q1. What are data structures, and why are they important?\n",
        "-  Data structures are a specific way of organizing data in a well organized  format on a computer so that the information can be organized, processed, stored, and retrieved quickly and effectively.\n",
        "- It is important because\n",
        "    - they make the code more efficient\n",
        "    - and they make the code easier to understand.\n",
        "    - Simplify data manipulation (adding, removing, modifying elements)\n",
        "    - Conserve memory usage\n",
        "-----------------------------------------------------------------\n",
        "Q2. Explain the difference between mutable and immutable data types with examples.\n",
        "-  Mutable data types in which the data can be modified by adding or removing the element .\n",
        "  -  for example: List , set and ddictionaries.\n",
        "- Immutable data types in which the data cannot be modified by adding or removing the element.\n",
        "  -  for example: Stings and Tuples\n",
        "-----------------------------------------------------------------\n",
        "Q3. What are the main differences between lists and tuples in Python?\n",
        "-  Lists are mutable which means the values are editable even after the list is being created, where as, Tuples are immutable which means tuples cannot be modified by adding or removing element.\n",
        "-----------------------------------------------------------------\n",
        "Q4. Describe how dictionaries store data.\n",
        "-  Dictionaries are key-value pairs that allow you to store and retrieve data based on a 'unique key'. The keys must be immutable or unique, such as strings or numbers. Dictionaries are useful for storing data that needs to be accessed quickly and efficiently.\n",
        "      \n",
        "          syntax:\n",
        "          dic = {\"name\":\"Saptarshi \", \"email\":\"sappy28guchait@gmail.com\", \"contact\": XXXX}\n",
        "          #key must be unique in this key are; name, email ,contact.\n",
        "-----------------------------------------------------------------\n",
        "Q5.  Why might you use a set instead of a list in Python?\n",
        "-  Use Set when you want the content should be unique and order of content doesn't matter, while List is used when you need to maintain the order of elements and allow duplicates.\n",
        "-----------------------------------------------------------------\n",
        "Q6. What is a string in Python, and how is it different from a list?\n",
        "-  String is a sequence of data. The main difference is that, String is a immutable data type while list is mutable. Stings data are to be stroed within single(' ') or double quote (\" \").\n",
        "-----------------------------------------------------------------\n",
        "Q7.  How do tuples ensure data integrity in Python?\n",
        "-  Tuples are immutable to ensure that their contents remains constant. which means the value will remain unchanged.\n",
        "-----------------------------------------------------------------\n",
        "Q8. What is a hash table, and how does it relate to dictionaries in Python?\n",
        "-  A Hash Table in Python is nothing but a data structure where data is stored in an proper manner. In hash tables, data is stored in an array format, with every data value having an exclusive or unique index value.\n",
        "-----------------------------------------------------------------\n",
        "Q9. Can lists contain different data types in Python?\n",
        "-  Yes, lists can contain the different data types in python. Like, string , integer, bollean, and so on.\n",
        "-----------------------------------------------------------------\n",
        "Q10.  Explain why strings are immutable in Python.\n",
        "-  As we know onces the string value is being assigned to the varible the value cannot be changed or modifed because the value is being assigned in the varible or memory of the system.\n",
        "-----------------------------------------------------------------\n",
        "Q11.What advantages do dictionaries offer over lists for certain tasks?\n",
        "-  The dictionaries stores data as key value pair which helps in retreving the data more effectively.\n",
        "- where as in lists the data retreiving the index postion has to be given for getting the data fromn the list\n",
        "          #in dictionaries the retreving of data by using the key i.e. name\n",
        "          dic = {\"name\":\"Saptarshi\", \"email\":\"sappy28guchait@gmail.com\", \"contact\": xxxx}\n",
        "          dic['name']\n",
        "          \n",
        "          #in lists the retreving of data by using the index no.\n",
        "          list1= [1, 2, 3, 4]\n",
        "          list[0]\n",
        "-----------------------------------------------------------------\n",
        "Q12. Describe a scenario where using a tuple would be preferable over a list.\n",
        "-  Tuples can be used in the scenario where the value has be remained unchanged\n",
        "\n",
        "For example\n",
        "- employee id\n",
        "- roll no\n",
        "- account number and many more.\n",
        "-----------------------------------------------------------------\n",
        "Q13.How do sets handle duplicate values in Python?\n",
        "-  Set function is being used to remove duplicate values in python.\n",
        "          syntax:\n",
        "          items = ['apple', 'banana', 'apple', 'onion', 'apple']\n",
        "          set1 = (set(items))\n",
        "          print(set1)\n",
        "-----------------------------------------------------------------\n",
        "Q14.How does the “in” keyword work differently for lists and dictionaries?\n",
        "-  \"in\" keyword in list are usefull to find whether the element is present in the list or not\n",
        "          example:\n",
        "          my_list = [\"Apple\", \"Banana\", \"orange\"]\n",
        "          my_list\n",
        "          'Apple' in my_list\n",
        "          \n",
        "          output:\n",
        "                 True\n",
        "- \"in\" operator in dictonaries are used in zip function it tells you whether something appears or not as a key in the dictionary\n",
        "          example:\n",
        "          students = [\"Raghu\", \"Madhav\", \"Shristi\"]\n",
        "          marks = [80, 90, 100]\n",
        "          {student:marks for student, marks in zip(students, marks)}\n",
        "-----------------------------------------------------------------\n",
        "Q15. Can you modify the elements of a tuple? Explain why or why not.\n",
        "- No, we can not add, remove or modify the elements of a tuple once it is created , because the tuples are immutable data type and once the value being assigned it cannot be modified\n",
        "-----------------------------------------------------------------\n",
        "Q16.What is a nested dictionary, and give an example of its use case?\n",
        "-  In Python, a nested dictionary is a dictionary inside a dictionary. It's a collection of dictionaries into one single dictionary.\n",
        "- the most popular use case is in:\n",
        "    - Restaurants\n",
        "    - Offices\n",
        "    - Schools\n",
        "    - Big companies\n",
        "\n",
        "            For example:\n",
        "            student = {\n",
        "              'R1': {'name': 'A', 'age': 18, 'contact': '1346'},\n",
        "              'R2': {'name': 'B', 'age': 19, 'contact': '2467'},\n",
        "              'R3': {'name': 'C', 'age': 21, 'contact': '3579'}\n",
        "              }\n",
        "            student['R1']\n",
        "\n",
        "            output:\n",
        "                  {'name': 'A', 'age': 18, 'contact': '1346'}\n",
        "-----------------------------------------------------------------\n",
        "Q17.Describe the time complexity of accessing elements in a dictionary.\n",
        "-  The time complexity of inserting a new element into a Python dictionary is typically O(1). This means that the time taken to insert an element into a dictionary is constant, regardless of the size of the dictionary. This is because Python dictionaries use a hash table data structure, which allows for fast insertion, retrieval, and deletion of key-value pairs.\n",
        "-----------------------------------------------------------------\n",
        "Q18.In what situations are lists preferred over dictionaries?\n",
        "-  If you need an ordered collection, like a sequence of user actions, then lists are useful. On the other hand, when you need quick look-ups to user data, dictionaries are invaluable.\n",
        "- Elements from the list can be accessed using the index, while the elements of the dictionary can be accessed using keys.\n",
        "-----------------------------------------------------------------\n",
        "Q19. Why are dictionaries considered unordered, and how does that affect data retrieval?\n",
        "-  Dictionary is a data structure which is a important value structure, optimized for fast storage and recovery based on key. In python, dictionaries are unordered because Python dictionaries are not programmed to be in order, as simple as that.\n",
        "-----------------------------------------------------------------\n",
        "Q20.Explain the difference between a list and a dictionary in terms of data retrieval.\n",
        "- A list is an ordered collection of items, whereas a dictionary is an unordered data collection in a key-value pair. Elements from the list can be accessed using the index, while the elements of the dictionary can be accessed using keys.\n",
        "          For exasmple:\n",
        "            #in dictionaries the retreving of data by using the key i.e. name\n",
        "              dic = {\"name\":\"Saptarshi\", \"email\":\"sappy28guchait@gmail.com\", \"contact\": XXXX}\n",
        "              dic['name']\n",
        "         \n",
        "          #in lists the retreving of data by using the index no.\n",
        "            list1= [1, 2, 3, 4]\n",
        "            list[0]"
      ],
      "metadata": {
        "id": "sbVZc-NVeXfP"
      }
    },
    {
      "cell_type": "markdown",
      "source": [
        "# Practical Questions"
      ],
      "metadata": {
        "id": "VklIh4W7gf6Y"
      }
    },
    {
      "cell_type": "code",
      "source": [
        "#Practical question\n",
        "'''\n",
        "Q1.  Write a code to create a string with your name and print it.\n",
        "\n",
        "'''\n",
        "'''\n",
        "Answere:-1\n",
        "'''\n",
        "#in this the name is already defined\n",
        "name = \"Sappy\"\n",
        "print(\"My name is:\", name)\n",
        "\n",
        "#in this the value can be added by using input function and the value will be stored in the form of string.\n",
        "\n",
        "my_name = input(\"Enter your name:\")\n",
        "print(\"My name is:\", my_name)\n",
        "type(my_name)"
      ],
      "metadata": {
        "id": "nb5xgWOxguAS",
        "colab": {
          "base_uri": "https://localhost:8080/"
        },
        "outputId": "db57cf86-13bf-4ae3-d055-08ff8af352af"
      },
      "execution_count": 1,
      "outputs": [
        {
          "output_type": "stream",
          "name": "stdout",
          "text": [
            "My name is: Sappy\n",
            "Enter your name:SG\n",
            "My name is: SG\n"
          ]
        },
        {
          "output_type": "execute_result",
          "data": {
            "text/plain": [
              "str"
            ]
          },
          "metadata": {},
          "execution_count": 1
        }
      ]
    },
    {
      "cell_type": "code",
      "source": [
        "#Practical question\n",
        "'''\n",
        "Q2. Write a code to find the length of the string \"Hello World\".\n",
        "\n",
        "'''\n",
        "'''\n",
        "Answere:-2\n",
        "'''\n",
        "quote = \"Hello World\"\n",
        "length = len(quote)\n",
        "print(\"Length of the string:\", length)\n",
        "#the output includes the total length of string including space\n"
      ],
      "metadata": {
        "id": "KjoQYtEzieKQ",
        "colab": {
          "base_uri": "https://localhost:8080/"
        },
        "outputId": "76f34485-7b3d-4f12-e10a-67b771fa60b9"
      },
      "execution_count": null,
      "outputs": [
        {
          "output_type": "stream",
          "name": "stdout",
          "text": [
            "Length of the string: 11\n"
          ]
        }
      ]
    },
    {
      "cell_type": "code",
      "source": [
        "#Practical question\n",
        "'''\n",
        "Q3. Write a code to slice the first 3 characters from the string \"Python Programming\".\n",
        "\n",
        "'''\n",
        "'''\n",
        "Answere:-3\n",
        "'''\n",
        "quote = \"Python Programming\"\n",
        "sliced_quote = quote[:3]\n",
        "print(\"First 3 characters from the string:\", sliced_quote)\n"
      ],
      "metadata": {
        "id": "LIQzQeZ_id57",
        "colab": {
          "base_uri": "https://localhost:8080/"
        },
        "outputId": "5378c4a5-3bb8-44a6-e015-3c36c04c8468"
      },
      "execution_count": null,
      "outputs": [
        {
          "output_type": "stream",
          "name": "stdout",
          "text": [
            "First 3 characters from the string: Pyt\n"
          ]
        }
      ]
    },
    {
      "cell_type": "code",
      "source": [
        "#Practical question\n",
        "'''\n",
        "Q4. Write a code to convert the string \"hello\" to uppercase.\n",
        "\n",
        "'''\n",
        "'''\n",
        "Answere:-4\n",
        "'''\n",
        "quote = \"hello\"\n",
        "print(\"Original quote:\", quote) #i'm adding this quote to show the difference\n",
        "uppercase_quote = quote.upper()\n",
        "print(\"Uppercase quote:\", uppercase_quote)"
      ],
      "metadata": {
        "id": "z6R7g1M5idpS",
        "colab": {
          "base_uri": "https://localhost:8080/"
        },
        "outputId": "cb833270-07d7-4dea-fc8a-748dc581aafa"
      },
      "execution_count": null,
      "outputs": [
        {
          "output_type": "stream",
          "name": "stdout",
          "text": [
            "Original quote: hello\n",
            "Uppercase quote: HELLO\n"
          ]
        }
      ]
    },
    {
      "cell_type": "code",
      "source": [
        "#Practical question\n",
        "'''\n",
        "Q5. Write a code to replace the word \"apple\" with \"orange\" in the string \"I like apple\".\n",
        "\n",
        "'''\n",
        "'''\n",
        "Answere:-5\n",
        "'''\n",
        "quote = \"I like apple\"\n",
        "print(\"Original string value:\", quote)\n",
        "new_quote = quote.replace(\"apple\", \"orange\")\n",
        "print(\"Replaced string value:\" , new_quote)"
      ],
      "metadata": {
        "id": "kmY49SXridXs",
        "colab": {
          "base_uri": "https://localhost:8080/"
        },
        "outputId": "b7d08ce6-ccdc-41bf-b272-4addb09c85b4"
      },
      "execution_count": null,
      "outputs": [
        {
          "output_type": "stream",
          "name": "stdout",
          "text": [
            "Original string value: I like apple\n",
            "Replaced string value: I like orange\n"
          ]
        }
      ]
    },
    {
      "cell_type": "code",
      "source": [
        "#Practical question\n",
        "'''\n",
        "Q6. Write a code to create a list with numbers 1 to 5 and print it.\n",
        "\n",
        "'''\n",
        "'''\n",
        "Answere:-6\n",
        "'''\n",
        "my_list = list(range(1,6))\n",
        "print(\"My list:\", my_list)"
      ],
      "metadata": {
        "id": "Lsl4X7m4idIA",
        "colab": {
          "base_uri": "https://localhost:8080/"
        },
        "outputId": "76d245eb-1dae-4818-f505-1f937aaaa153"
      },
      "execution_count": null,
      "outputs": [
        {
          "output_type": "stream",
          "name": "stdout",
          "text": [
            "My list: [1, 2, 3, 4, 5]\n"
          ]
        }
      ]
    },
    {
      "cell_type": "code",
      "source": [
        "#Practical question\n",
        "'''\n",
        "Q7. Write a code to append the number 10 to the list [1, 2, 3, 4].\n",
        "\n",
        "'''\n",
        "'''\n",
        "Answere:-7\n",
        "'''\n",
        "my_list = [1, 2, 3, 4]\n",
        "my_list.append(10)\n",
        "print(\"New updated list:\", my_list)"
      ],
      "metadata": {
        "id": "_iPQElHpic0v",
        "colab": {
          "base_uri": "https://localhost:8080/"
        },
        "outputId": "ce89780a-0f39-4adf-e086-95266eecb4e5"
      },
      "execution_count": null,
      "outputs": [
        {
          "output_type": "stream",
          "name": "stdout",
          "text": [
            "New updated list: [1, 2, 3, 4, 10]\n"
          ]
        }
      ]
    },
    {
      "cell_type": "code",
      "source": [
        "#Practical question\n",
        "'''\n",
        "Q8. Write a code to remove the number 3 from the list [1, 2, 3, 4, 5].\n",
        "\n",
        "'''\n",
        "'''\n",
        "Answere:-8\n",
        "'''\n",
        "my_list = [1, 2, 3, 4, 5]\n",
        "my_list.remove(3)\n",
        "print(\"Updated list:\", my_list)"
      ],
      "metadata": {
        "id": "FwQlBMJ5iceQ",
        "colab": {
          "base_uri": "https://localhost:8080/"
        },
        "outputId": "65ff84b7-90f1-458b-e4c0-cf92ecfb226e"
      },
      "execution_count": null,
      "outputs": [
        {
          "output_type": "stream",
          "name": "stdout",
          "text": [
            "Updated list: [1, 2, 4, 5]\n"
          ]
        }
      ]
    },
    {
      "cell_type": "code",
      "source": [
        "#Practical question\n",
        "'''\n",
        "Q9. Write a code to access the second element in the list ['a', 'b', 'c', 'd'].\n",
        "\n",
        "'''\n",
        "'''\n",
        "Answere:-9\n",
        "'''\n",
        "my_list = ['a', 'b', 'c', 'd']\n",
        "second_element = my_list[1]\n",
        "print(\"second element:\" , second_element)"
      ],
      "metadata": {
        "id": "IBx2Dvc5icL5",
        "colab": {
          "base_uri": "https://localhost:8080/"
        },
        "outputId": "324f754a-5a9c-4c1d-b7b0-dfd1c8fa3fa0"
      },
      "execution_count": null,
      "outputs": [
        {
          "output_type": "stream",
          "name": "stdout",
          "text": [
            "second element: b\n"
          ]
        }
      ]
    },
    {
      "cell_type": "code",
      "source": [
        "#Practical question\n",
        "'''\n",
        "Q10.  Write a code to reverse the list [10, 20, 30, 40, 50].\n",
        "\n",
        "'''\n",
        "'''\n",
        "Answere:-10\n",
        "'''\n",
        "\n",
        "original_list = [10, 20, 30, 40, 50]\n",
        "\n",
        "reversed_list = original_list[::-1]\n",
        "\n",
        "print(\"Reversed List:\", reversed_list)\n",
        "\n",
        "# there is an another method for reversing the list are :\n",
        "print(\" \")\n",
        "\n",
        "original_list = [10, 20, 30, 40, 50]\n",
        "original_list.reverse()\n",
        "print(\"Reversed List:\", original_list)\n",
        "\n",
        "# In both the cases the answer will be same.\n"
      ],
      "metadata": {
        "id": "XIxk3wsGibw3",
        "colab": {
          "base_uri": "https://localhost:8080/"
        },
        "outputId": "7ce6e7b3-9050-47d2-b18a-914088e5f73d"
      },
      "execution_count": null,
      "outputs": [
        {
          "output_type": "stream",
          "name": "stdout",
          "text": [
            "Reversed List: [50, 40, 30, 20, 10]\n",
            " \n",
            "Reversed List: [50, 40, 30, 20, 10]\n"
          ]
        }
      ]
    },
    {
      "cell_type": "code",
      "source": [
        "#Practical question\n",
        "'''\n",
        "Q11. Write a code to create a tuple with the elements 10, 20, 30 and print it.\n",
        "\n",
        "'''\n",
        "'''\n",
        "Answere:-11\n",
        "'''\n",
        "my_tuple = (10, 20, 30)\n",
        "print(\"My tuple:\", my_tuple)\n",
        "type(my_tuple)"
      ],
      "metadata": {
        "id": "YFiildUUibfQ",
        "colab": {
          "base_uri": "https://localhost:8080/"
        },
        "outputId": "c546d2e4-88d9-474b-8bf5-2a46e0dc30aa"
      },
      "execution_count": null,
      "outputs": [
        {
          "output_type": "stream",
          "name": "stdout",
          "text": [
            "My tuple: (10, 20, 30)\n"
          ]
        },
        {
          "output_type": "execute_result",
          "data": {
            "text/plain": [
              "tuple"
            ]
          },
          "metadata": {},
          "execution_count": 39
        }
      ]
    },
    {
      "cell_type": "code",
      "source": [
        "#Practical question\n",
        "'''\n",
        "Q12. Write a code to access the first element of the tuple ('apple', 'banana', 'cherry').\n",
        "\n",
        "'''\n",
        "'''\n",
        "Answere:-12\n",
        "'''\n",
        "my_tuple = ('apple', 'banana', 'cherry')\n",
        "first_element = my_tuple[0]\n",
        "print(\"Frist element of the tuple is:\", first_element)"
      ],
      "metadata": {
        "id": "-Dh3PEBDibMT",
        "colab": {
          "base_uri": "https://localhost:8080/"
        },
        "outputId": "669fdfe8-2bf3-48a0-ac03-e7bfa642acaa"
      },
      "execution_count": null,
      "outputs": [
        {
          "output_type": "stream",
          "name": "stdout",
          "text": [
            "Frist element of the tuple is: apple\n"
          ]
        }
      ]
    },
    {
      "cell_type": "code",
      "source": [
        "#Practical question\n",
        "'''\n",
        "Q13. Write a code to count how many times the number 2 appears in the tuple (1, 2, 3, 2, 4, 2).\n",
        "\n",
        "'''\n",
        "'''\n",
        "Answere:-13\n",
        "'''\n",
        "my_tuple = (1, 2, 3, 2, 4, 2)\n",
        "repeat = my_tuple.count(2)\n",
        "print(\"Total times the value '2' appreared in the tuple is:\", repeat)"
      ],
      "metadata": {
        "id": "tJgirN3Hia6L",
        "colab": {
          "base_uri": "https://localhost:8080/"
        },
        "outputId": "f6e9574c-84a3-4c9e-d11c-b022970fcd8f"
      },
      "execution_count": null,
      "outputs": [
        {
          "output_type": "stream",
          "name": "stdout",
          "text": [
            "Total times the value '2' appreared in the tuple is: 3\n"
          ]
        }
      ]
    },
    {
      "cell_type": "code",
      "source": [
        "#Practical question\n",
        "'''\n",
        "Q14. Write a code to find the index of the element \"cat\" in the tuple ('dog', 'cat', 'rabbit').\n",
        "\n",
        "'''\n",
        "'''\n",
        "Answere:-14\n",
        "'''\n",
        "my_tuple = ('dog', 'cat', 'rabbit')\n",
        "index = my_tuple.index('cat')\n",
        "print(\"The index of the element 'cat' in the tuple is:\", index)"
      ],
      "metadata": {
        "id": "qbqDOFQziaoQ",
        "colab": {
          "base_uri": "https://localhost:8080/"
        },
        "outputId": "5db0d704-2c80-4476-a9a2-ffb0f0029e4f"
      },
      "execution_count": null,
      "outputs": [
        {
          "output_type": "stream",
          "name": "stdout",
          "text": [
            "The index of the element 'cat' in the tuple is: 1\n"
          ]
        }
      ]
    },
    {
      "cell_type": "code",
      "source": [
        "#Practical question\n",
        "'''\n",
        "Q15.Write a code to check if the element \"banana\" is in the tuple ('apple', 'orange', 'banana').\n",
        "\n",
        "'''\n",
        "'''\n",
        "Answere:-15\n",
        "'''\n",
        "my_tuple = ('apple', 'orange', 'banana')\n",
        "if  'banana' in my_tuple:\n",
        "  print(\"Yes, 'banana' is in the tuple\")\n",
        "else:\n",
        "  print(\"No, 'banana' is not in the tuple\")"
      ],
      "metadata": {
        "id": "myKtP4HBiaW4",
        "colab": {
          "base_uri": "https://localhost:8080/"
        },
        "outputId": "42d5c1c9-e222-4e26-b4ee-6329584b82fc"
      },
      "execution_count": null,
      "outputs": [
        {
          "output_type": "stream",
          "name": "stdout",
          "text": [
            "Yes, 'banana' is in the tuple\n"
          ]
        }
      ]
    },
    {
      "cell_type": "code",
      "source": [
        "#Practical question\n",
        "'''\n",
        "Q16. Write a code to create a set with the elements 1, 2, 3, 4, 5 and print it.\n",
        "\n",
        "'''\n",
        "'''\n",
        "Answere:-16\n",
        "'''\n",
        "my_set = {1, 2, 3, 4, 5}\n",
        "print(\"My set of elements are:\", my_set)\n",
        "type(my_set)"
      ],
      "metadata": {
        "id": "PEDx3IdfiaEB",
        "colab": {
          "base_uri": "https://localhost:8080/"
        },
        "outputId": "17c8bdf8-aaa0-4573-d9a6-560710c77777"
      },
      "execution_count": null,
      "outputs": [
        {
          "output_type": "stream",
          "name": "stdout",
          "text": [
            "My set of elements are: {1, 2, 3, 4, 5}\n"
          ]
        },
        {
          "output_type": "execute_result",
          "data": {
            "text/plain": [
              "set"
            ]
          },
          "metadata": {},
          "execution_count": 48
        }
      ]
    },
    {
      "cell_type": "code",
      "source": [
        "#Practical question\n",
        "'''\n",
        "Q17. Write a code to add the element 6 to the set {1, 2, 3, 4}.\n",
        "\n",
        "'''\n",
        "'''\n",
        "Answere:-17\n",
        "'''\n",
        "my_set ={1, 2, 3, 4}\n",
        "print(\"Original set:\", my_set)\n",
        "my_set.add(6)\n",
        "print(\"Updated set:\", my_set)\n"
      ],
      "metadata": {
        "id": "Y2RmH_HkiZqX",
        "colab": {
          "base_uri": "https://localhost:8080/"
        },
        "outputId": "6b70cfcb-c862-4a85-870f-2327d759e5ca"
      },
      "execution_count": null,
      "outputs": [
        {
          "output_type": "stream",
          "name": "stdout",
          "text": [
            "Original set: {1, 2, 3, 4}\n",
            "Updated set: {1, 2, 3, 4, 6}\n"
          ]
        }
      ]
    },
    {
      "cell_type": "code",
      "source": [
        "#Practical question\n",
        "'''\n",
        "Q18. Write a code to create a tuple with the elements 10, 20, 30 and print it.\n",
        "\n",
        "'''\n",
        "'''\n",
        "Answere:-18\n",
        "'''\n",
        "my_tuple = (10, 20, 30)\n",
        "print(\"My tuple:\", my_tuple)\n",
        "type(my_tuple)\n"
      ],
      "metadata": {
        "id": "x2GdJ6zziYAt",
        "colab": {
          "base_uri": "https://localhost:8080/"
        },
        "outputId": "bbbb44d8-dabf-44a1-b37c-cdd715d6f0a9"
      },
      "execution_count": null,
      "outputs": [
        {
          "output_type": "stream",
          "name": "stdout",
          "text": [
            "My tuple: (10, 20, 30)\n"
          ]
        },
        {
          "output_type": "execute_result",
          "data": {
            "text/plain": [
              "tuple"
            ]
          },
          "metadata": {},
          "execution_count": 50
        }
      ]
    },
    {
      "cell_type": "code",
      "source": [
        "#Practical question\n",
        "'''\n",
        "Q19. Write a code to access the first element of the tuple ('apple', 'banana', 'cherry').\n",
        "\n",
        "'''\n",
        "'''\n",
        "Answere:-19\n",
        "'''\n",
        "my_tuple = ('apple', 'banana', 'cherry')\n",
        "first_element = my_tuple[0]\n",
        "print(\"Frist element of the tuple is:\", first_element)"
      ],
      "metadata": {
        "id": "NokcFsP4iXt3",
        "colab": {
          "base_uri": "https://localhost:8080/"
        },
        "outputId": "290b5995-609e-4513-b8b7-3acf5516ce69"
      },
      "execution_count": null,
      "outputs": [
        {
          "output_type": "stream",
          "name": "stdout",
          "text": [
            "Frist element of the tuple is: apple\n"
          ]
        }
      ]
    },
    {
      "cell_type": "code",
      "source": [
        "#Practical question\n",
        "'''\n",
        "Q20. Write a code to count how many times the number 2 appears in the tuple (1, 2, 3, 2, 4, 2).\n",
        "\n",
        "'''\n",
        "'''\n",
        "Answere:-20\n",
        "'''\n",
        "my_tuple = (1, 2, 3, 2, 4, 2)\n",
        "repeat = my_tuple.count(2)\n",
        "print(\"Total times the value '2' appreared in the tuple is:\", repeat)"
      ],
      "metadata": {
        "id": "Gu9KjGQiiXXi",
        "colab": {
          "base_uri": "https://localhost:8080/"
        },
        "outputId": "5ce64e91-e0e9-4371-fe0b-add3ff5cd10b"
      },
      "execution_count": null,
      "outputs": [
        {
          "output_type": "stream",
          "name": "stdout",
          "text": [
            "Total times the value '2' appreared in the tuple is: 3\n"
          ]
        }
      ]
    },
    {
      "cell_type": "code",
      "source": [
        "#Practical question\n",
        "'''\n",
        "Q21. Write a code to find the index of the element \"cat\" in the tuple ('dog', 'cat', 'rabbit').\n",
        "\n",
        "'''\n",
        "'''\n",
        "Answere:-21\n",
        "'''\n",
        "my_tuple = ('dog', 'cat', 'rabbit')\n",
        "index = my_tuple.index('cat')\n",
        "print(\"The index of the element 'cat' in the tuple is:\", index)"
      ],
      "metadata": {
        "id": "1dRi8GOmiWiN",
        "colab": {
          "base_uri": "https://localhost:8080/"
        },
        "outputId": "190b0a2a-052b-4d21-a136-11b09d05d65a"
      },
      "execution_count": null,
      "outputs": [
        {
          "output_type": "stream",
          "name": "stdout",
          "text": [
            "The index of the element 'cat' in the tuple is: 1\n"
          ]
        }
      ]
    },
    {
      "cell_type": "code",
      "source": [
        "#Practical question\n",
        "'''\n",
        "Q22. Write a code to check if the element \"banana\" is in the tuple ('apple', 'orange', 'banana').\n",
        "\n",
        "'''\n",
        "'''\n",
        "Answere:-22\n",
        "'''\n",
        "my_tuple = ('apple', 'orange', 'banana')\n",
        "if  'banana' in my_tuple:\n",
        "  print(\"Yes, 'banana' is in the tuple\")\n",
        "else:\n",
        "  print(\"No, 'banana' is not in the tuple\")"
      ],
      "metadata": {
        "id": "5GFoYczAiV28",
        "colab": {
          "base_uri": "https://localhost:8080/"
        },
        "outputId": "8a83db66-956a-4c42-9d1e-5f2fbbf2f7f1"
      },
      "execution_count": null,
      "outputs": [
        {
          "output_type": "stream",
          "name": "stdout",
          "text": [
            "Yes, 'banana' is in the tuple\n"
          ]
        }
      ]
    },
    {
      "cell_type": "code",
      "source": [
        "#Practical question\n",
        "'''\n",
        "Q23. Write a code to create a set with the elements 1, 2, 3, 4, 5 and print it.\n",
        "\n",
        "'''\n",
        "'''\n",
        "Answere:-23\n",
        "'''\n",
        "my_set = {1, 2, 3, 4, 5}\n",
        "print(\"My set of elements are:\", my_set)\n",
        "type(my_set)"
      ],
      "metadata": {
        "id": "91I96M3Lg3dQ",
        "colab": {
          "base_uri": "https://localhost:8080/"
        },
        "outputId": "89a1b5e0-af89-404a-f247-19c75e634c48"
      },
      "execution_count": null,
      "outputs": [
        {
          "output_type": "stream",
          "name": "stdout",
          "text": [
            "My set of elements are: {1, 2, 3, 4, 5}\n"
          ]
        },
        {
          "output_type": "execute_result",
          "data": {
            "text/plain": [
              "set"
            ]
          },
          "metadata": {},
          "execution_count": 55
        }
      ]
    },
    {
      "cell_type": "code",
      "source": [
        "#Practical question\n",
        "'''\n",
        "Q24. Write a code to add the element 6 to the set {1, 2, 3, 4}.\n",
        "\n",
        "'''\n",
        "'''\n",
        "Answere:-24\n",
        "'''\n",
        "my_set ={1, 2, 3, 4}\n",
        "print(\"Original set:\", my_set)\n",
        "my_set.add(6)\n",
        "print(\"Updated set:\", my_set)"
      ],
      "metadata": {
        "id": "vMMfUed1iVBT",
        "colab": {
          "base_uri": "https://localhost:8080/"
        },
        "outputId": "4dc5dffe-bed5-4d30-fbfd-6e42dcad78c4"
      },
      "execution_count": null,
      "outputs": [
        {
          "output_type": "stream",
          "name": "stdout",
          "text": [
            "Original set: {1, 2, 3, 4}\n",
            "Updated set: {1, 2, 3, 4, 6}\n"
          ]
        }
      ]
    }
  ]
}